{
  "nbformat": 4,
  "nbformat_minor": 0,
  "metadata": {
    "colab": {
      "provenance": [],
      "gpuType": "T4",
      "include_colab_link": true
    },
    "kernelspec": {
      "name": "python3",
      "display_name": "Python 3"
    },
    "language_info": {
      "name": "python"
    },
    "accelerator": "GPU"
  },
  "cells": [
    {
      "cell_type": "markdown",
      "metadata": {
        "id": "view-in-github",
        "colab_type": "text"
      },
      "source": [
        "<a href=\"https://colab.research.google.com/github/alksqw/Aging_proj/blob/main/Untitled1.ipynb\" target=\"_parent\"><img src=\"https://colab.research.google.com/assets/colab-badge.svg\" alt=\"Open In Colab\"/></a>"
      ]
    },
    {
      "cell_type": "markdown",
      "source": [
        "# как устанавливать либы"
      ],
      "metadata": {
        "id": "MVv4nPscl5AA"
      }
    },
    {
      "cell_type": "code",
      "source": [
        "!pip install rdkit\n",
        "!pip install rdkit\n",
        "!pip install molvs"
      ],
      "metadata": {
        "id": "XPAN1hRRl2RN",
        "colab": {
          "base_uri": "https://localhost:8080/"
        },
        "outputId": "5695f0f3-2965-42a3-8c5e-6794a282457a"
      },
      "execution_count": 3,
      "outputs": [
        {
          "output_type": "stream",
          "name": "stdout",
          "text": [
            "Collecting rdkit\n",
            "  Downloading rdkit-2024.9.6-cp311-cp311-manylinux_2_28_x86_64.whl.metadata (4.0 kB)\n",
            "Requirement already satisfied: numpy in /usr/local/lib/python3.11/dist-packages (from rdkit) (2.0.2)\n",
            "Requirement already satisfied: Pillow in /usr/local/lib/python3.11/dist-packages (from rdkit) (11.1.0)\n",
            "Downloading rdkit-2024.9.6-cp311-cp311-manylinux_2_28_x86_64.whl (34.3 MB)\n",
            "\u001b[2K   \u001b[90m━━━━━━━━━━━━━━━━━━━━━━━━━━━━━━━━━━━━━━━━\u001b[0m \u001b[32m34.3/34.3 MB\u001b[0m \u001b[31m58.6 MB/s\u001b[0m eta \u001b[36m0:00:00\u001b[0m\n",
            "\u001b[?25hInstalling collected packages: rdkit\n",
            "Successfully installed rdkit-2024.9.6\n",
            "Requirement already satisfied: rdkit in /usr/local/lib/python3.11/dist-packages (2024.9.6)\n",
            "Requirement already satisfied: numpy in /usr/local/lib/python3.11/dist-packages (from rdkit) (2.0.2)\n",
            "Requirement already satisfied: Pillow in /usr/local/lib/python3.11/dist-packages (from rdkit) (11.1.0)\n",
            "Collecting molvs\n",
            "  Downloading MolVS-0.1.1.tar.gz (61 kB)\n",
            "\u001b[2K     \u001b[90m━━━━━━━━━━━━━━━━━━━━━━━━━━━━━━━━━━━━━━━━\u001b[0m \u001b[32m61.9/61.9 kB\u001b[0m \u001b[31m2.9 MB/s\u001b[0m eta \u001b[36m0:00:00\u001b[0m\n",
            "\u001b[?25h  Preparing metadata (setup.py) ... \u001b[?25l\u001b[?25hdone\n",
            "Requirement already satisfied: six in /usr/local/lib/python3.11/dist-packages (from molvs) (1.17.0)\n",
            "Building wheels for collected packages: molvs\n",
            "  Building wheel for molvs (setup.py) ... \u001b[?25l\u001b[?25hdone\n",
            "  Created wheel for molvs: filename=MolVS-0.1.1-py3-none-any.whl size=32374 sha256=9d4bc582677cc74bda91e2d772637ee845e9abf5b0bbf8ecee795a46c4e8c0d9\n",
            "  Stored in directory: /root/.cache/pip/wheels/26/62/a4/147e264c789d9a4e8495f2c3d60f702425761f875bcfdf44e0\n",
            "Successfully built molvs\n",
            "Installing collected packages: molvs\n",
            "Successfully installed molvs-0.1.1\n"
          ]
        }
      ]
    },
    {
      "cell_type": "code",
      "source": [
        "import pandas as pd\n",
        "from rdkit import Chem\n",
        "from rdkit.Chem import Descriptors\n",
        "import torch\n",
        "import torch.nn as nn\n",
        "from torch.utils.data import Dataset, DataLoader\n",
        "from collections import defaultdict\n",
        "from tqdm import tqdm\n",
        "import numpy as np\n",
        "from molvs import Standardizer\n",
        "import time\n",
        "\n",
        "# 1. Конфигурация\n",
        "TARGET_COLUMN = \"Standard Value\"  # IC50\n",
        "SMILES_COLUMN = \"Canonical Smiles\"\n",
        "NUMERIC_FEATURES = [\"Molecular Weight\", \"ALogP\"]  # Убрали \"pChEMBL Value\"\n",
        "CATEGORICAL_FEATURES = [\"Target Organism\", \"Assay Organism\"]\n",
        "BATCH_SIZE = 64\n",
        "MAX_SMILES_LENGTH = 100\n",
        "\n",
        "file_path = \"/content/drive/MyDrive/CHEMBL25-single_ic50.csv\"\n"
      ],
      "metadata": {
        "id": "mZbx5efAiQwY"
      },
      "execution_count": 4,
      "outputs": []
    },
    {
      "cell_type": "code",
      "source": [
        "device = \"cuda:0\" if torch.cuda.is_available() else \"cpu\"\n",
        "\n",
        "\n",
        "def gpu_checker():\n",
        "    gpu_info = !nvidia-smi\n",
        "    gpu_info = '\\n'.join(gpu_info)\n",
        "    if gpu_info.find('failed') >= 0:\n",
        "      print(\"ВКЛЮЧИ ГПУ !!!!!!!!!!!!!!!!!!!!!!!!!!! СРЕДА ВЫПОЛНЕНИЯ НАЖМИ И ВЫБЕРИ СМЕНИТЬ СРЕДУ ВЫПОЛНЕНИЯ -> ГРАФИЧЕСКИЙ ПРОЦЕССОР !!!!!!!!\")\n",
        "\n",
        "    print(\"ГПУ РАБОТАЕТ !!!!!!!!!!!!!!!!!!!!!!!!!!!\")\n",
        "    print(gpu_info)\n",
        "\n",
        "gpu_checker()\n",
        "\n"
      ],
      "metadata": {
        "id": "OraG-hOIiRbf",
        "colab": {
          "base_uri": "https://localhost:8080/"
        },
        "outputId": "3838d418-9a2b-4232-9662-c70f2182cfea"
      },
      "execution_count": 5,
      "outputs": [
        {
          "output_type": "stream",
          "name": "stdout",
          "text": [
            "ГПУ РАБОТАЕТ !!!!!!!!!!!!!!!!!!!!!!!!!!!\n",
            "Fri Mar 28 16:47:02 2025       \n",
            "+-----------------------------------------------------------------------------------------+\n",
            "| NVIDIA-SMI 550.54.15              Driver Version: 550.54.15      CUDA Version: 12.4     |\n",
            "|-----------------------------------------+------------------------+----------------------+\n",
            "| GPU  Name                 Persistence-M | Bus-Id          Disp.A | Volatile Uncorr. ECC |\n",
            "| Fan  Temp   Perf          Pwr:Usage/Cap |           Memory-Usage | GPU-Util  Compute M. |\n",
            "|                                         |                        |               MIG M. |\n",
            "|=========================================+========================+======================|\n",
            "|   0  Tesla T4                       Off |   00000000:00:04.0 Off |                    0 |\n",
            "| N/A   55C    P8             10W /   70W |       2MiB /  15360MiB |      0%      Default |\n",
            "|                                         |                        |                  N/A |\n",
            "+-----------------------------------------+------------------------+----------------------+\n",
            "                                                                                         \n",
            "+-----------------------------------------------------------------------------------------+\n",
            "| Processes:                                                                              |\n",
            "|  GPU   GI   CI        PID   Type   Process name                              GPU Memory |\n",
            "|        ID   ID                                                               Usage      |\n",
            "|=========================================================================================|\n",
            "|  No running processes found                                                             |\n",
            "+-----------------------------------------------------------------------------------------+\n"
          ]
        }
      ]
    },
    {
      "cell_type": "code",
      "source": [
        "\n",
        "\n",
        "\n",
        "# 2. Загрузка и предобработка данных\n",
        "class ChEMBLDataset(Dataset):\n",
        "    def __init__(self, file_path):\n",
        "        self.df = pd.read_csv(file_path, sep=',', low_memory=False)\n",
        "        self._preprocess()\n",
        "\n",
        "    @staticmethod\n",
        "    def is_valid_smiles(smiles):\n",
        "        \"\"\"Статический метод для проверки валидности SMILES.\"\"\"\n",
        "        try:\n",
        "            mol = Chem.MolFromSmiles(smiles)\n",
        "            return mol is not None\n",
        "        except:\n",
        "            return False\n",
        "\n",
        "    def _preprocess(self):\n",
        "          # Шаг 1: Проверка наличия столбцов перед удалением\n",
        "        print(\"[DEBUG] Столбцы до удаления:\", self.df.columns.tolist())\n",
        "      # В методе _preprocess класса ChEMBLDataset:\n",
        "        columns_to_drop =[\n",
        "        \"Ligand Efficiency BEI\",\n",
        "        \"Ligand Efficiency LE\",\n",
        "        \"Ligand Efficiency LLE\",\n",
        "        \"Ligand Efficiency SEI\",\n",
        "        \"Assay Tissue ChEMBL ID\",\n",
        "        \"Assay Tissue Name\"\n",
        "        ]\n",
        "        # Фильтрация существующих столбцов\n",
        "        existing_columns = [col for col in columns_to_drop if col in self.df.columns]\n",
        "        self.df = self.df.drop(columns=existing_columns)\n",
        "\n",
        "        # Шаг 3: Проверка после удаления\n",
        "        print(\"[DEBUG] Столбцы после удаления:\", self.df.columns.tolist())\n",
        "        # Преобразование числовых колонок в float\n",
        "        numeric_cols = NUMERIC_FEATURES + [TARGET_COLUMN]\n",
        "        for col in numeric_cols:\n",
        "            self.df[col] = pd.to_numeric(self.df[col], errors=\"coerce\")\n",
        "\n",
        "        # Удаление строк с NaN в числовых колонках\n",
        "        self.df = self.df.dropna(subset=numeric_cols)\n",
        "\n",
        "        # Фильтрация аномальных значений IC50\n",
        "        self.df = self.df[\n",
        "            (self.df[TARGET_COLUMN] > 0) &\n",
        "            (self.df[TARGET_COLUMN] < 1e6)\n",
        "        ]\n",
        "        # Замена некорректных символов\n",
        "        self.df[SMILES_COLUMN] = self.df[SMILES_COLUMN].str.replace(r'\\[i\\]', '[I]', regex=True)\n",
        "        self.df[SMILES_COLUMN] = self.df[SMILES_COLUMN].str.replace(r'\\[b\\]', '[B]', regex=True)\n",
        "\n",
        "        # Фильтрация некорректных SMILES\n",
        "        self.df['is_valid'] = self.df[SMILES_COLUMN].apply(self.is_valid_smiles)\n",
        "        self.df = self.df[self.df['is_valid']]\n",
        "\n",
        "        # Преобразование числовых колонок в float\n",
        "        numeric_cols = NUMERIC_FEATURES + [TARGET_COLUMN]\n",
        "        for col in numeric_cols:\n",
        "            self.df[col] = pd.to_numeric(self.df[col], errors=\"coerce\")\n",
        "\n",
        "        # Удаление строк с NaN в числовых колонках\n",
        "        self.df = self.df.dropna(subset=numeric_cols)\n",
        "\n",
        "        # Фильтрация аномальных значений в целевой переменной\n",
        "        self.df = self.df[\n",
        "            (self.df[TARGET_COLUMN] > 0) &\n",
        "            (self.df[TARGET_COLUMN] < 1e6)\n",
        "        ]\n",
        "\n",
        "        # Удаление строк с NaN в целевой колонке\n",
        "        self.df = self.df.dropna(subset=[TARGET_COLUMN])\n",
        "\n",
        "        # Фильтрация аномальных значений (теперь безопасно)\n",
        "        self.df = self.df[\n",
        "            (self.df[TARGET_COLUMN] > 0) &\n",
        "            (self.df[TARGET_COLUMN] < 1e6)\n",
        "        ]\n",
        "\n",
        "        # Нормализация\n",
        "        self.mean = self.df[NUMERIC_FEATURES].mean()\n",
        "        self.std = self.df[NUMERIC_FEATURES].std().replace(0, 1e-6)\n",
        "        self.df[NUMERIC_FEATURES] = (self.df[NUMERIC_FEATURES] - self.mean) / self.std\n",
        "\n",
        "        # Добавить нормализацию для целевой переменной\n",
        "        self.target_mean = self.df[TARGET_COLUMN].mean()\n",
        "        self.target_std = self.df[TARGET_COLUMN].std()\n",
        "        self.df[TARGET_COLUMN] = (self.df[TARGET_COLUMN] - self.target_mean) / self.target_std\n",
        "\n",
        "        # Обработка категориальных признаков\n",
        "        self.cat_mappings = {}\n",
        "        for col in CATEGORICAL_FEATURES:\n",
        "            self.df[col] = self.df[col].fillna('Unknown')\n",
        "            self.cat_mappings[col] = {v: k for k, v in enumerate(self.df[col].unique())}\n",
        "\n",
        "        # Создание словаря символов\n",
        "        all_smiles = ''.join(self.df[SMILES_COLUMN].tolist())\n",
        "        self.vocab = sorted(set(all_smiles)) + ['<SOS>', '<EOS>', '<PAD>', '<UNK>']\n",
        "        self.char_to_idx = {c: i for i, c in enumerate(self.vocab)}\n",
        "        self.idx_to_char = {i: c for i, c in enumerate(self.vocab)}\n",
        "\n",
        "            # Проверка на NaN и Inf\n",
        "        print(\"Проверка на NaN в данных:\")\n",
        "        print(self.df.isnull().sum())\n",
        "\n",
        "        print(\"Проверка на Inf в числовых признаках:\")\n",
        "        for col in NUMERIC_FEATURES:\n",
        "            print(f\"{col}: {np.isinf(self.df[col]).sum()}\")\n",
        "\n",
        "    def __len__(self):\n",
        "        return len(self.df)\n",
        "\n",
        "    def __getitem__(self, idx):\n",
        "        row = self.df.iloc[idx]\n",
        "\n",
        "        # Преобразование SMILES в тензор\n",
        "        smiles = row[SMILES_COLUMN]\n",
        "        seq = [self.char_to_idx.get(c, self.char_to_idx['<UNK>']) for c in smiles]\n",
        "        seq = seq[:MAX_SMILES_LENGTH - 1] + [self.char_to_idx['<EOS>']]\n",
        "        seq += [self.char_to_idx['<PAD>']] * (MAX_SMILES_LENGTH - len(seq))\n",
        "\n",
        "        # Числовые и категориальные признаки\n",
        "        numeric = torch.FloatTensor(row[NUMERIC_FEATURES].values.astype(float))\n",
        "        categorical = torch.LongTensor([\n",
        "            self.cat_mappings[col][row[col]] for col in CATEGORICAL_FEATURES\n",
        "        ])\n",
        "\n",
        "        # Целевая переменная\n",
        "        target = torch.FloatTensor([row[TARGET_COLUMN]])\n",
        "\n",
        "        return {\n",
        "            'Canonical Smiles': torch.LongTensor(seq),\n",
        "            'numeric': numeric,\n",
        "            'categorical': categorical,\n",
        "            'target': target\n",
        "        }\n",
        "\n",
        "\n",
        "# 3. Модель с мультимодальным вводом\n",
        "class MultiModalModel(nn.Module):\n",
        "    def __init__(self, vocab_size, numeric_dim, categorical_dims):\n",
        "        super().__init__()\n",
        "        # SMILES Encoder\n",
        "        self.embedding = nn.Embedding(vocab_size, 128)\n",
        "        self.rnn = nn.GRU(128, 512, batch_first=True)\n",
        "        self.bn = nn.BatchNorm1d(512)\n",
        "\n",
        "        # Categorical Embeddings\n",
        "        self.cat_embeddings = nn.ModuleList([\n",
        "            nn.Embedding(dim, 32) for dim in categorical_dims\n",
        "        ])\n",
        "\n",
        "        # Feature Combiner\n",
        "        self.combiner = nn.Sequential(\n",
        "            nn.Linear(512 + numeric_dim + 32 * len(categorical_dims), 128),\n",
        "            nn.ReLU(),\n",
        "            nn.Dropout(0.3),\n",
        "            nn.Linear(128, 1)\n",
        "        )\n",
        "\n",
        "    def forward(self, batch):\n",
        "        # Обработка SMILES\n",
        "        x_smiles = self.embedding(batch['Canonical Smiles'])\n",
        "        _, h_smiles = self.rnn(x_smiles)\n",
        "\n",
        "        # Применение BatchNorm\n",
        "        h_smiles = self.bn(h_smiles.squeeze(0))  # Исправлено: добавлена закрывающая скобка\n",
        "\n",
        "        # Обработка категориальных признаков\n",
        "        cat_embs = [\n",
        "            emb(batch['categorical'][:, i])\n",
        "            for i, emb in enumerate(self.cat_embeddings)\n",
        "        ]\n",
        "        cat_combined = torch.cat(cat_embs, dim=1)\n",
        "\n",
        "        # Объединение признаков\n",
        "        combined = torch.cat([\n",
        "            h_smiles,\n",
        "            batch['numeric'],\n",
        "            cat_combined\n",
        "        ], dim=1)\n",
        "\n",
        "        return self.combiner(combined)\n",
        "\n",
        "\n",
        "\n",
        "# 4. Обучение\n",
        "# 4. Обучение (исправленная функция train())\n",
        "def train():\n",
        "    dataset = ChEMBLDataset(\"/content/drive/MyDrive/CHEMBL25-single_ic50.csv\")\n",
        "    dataloader = DataLoader(dataset, batch_size=BATCH_SIZE, shuffle=True)\n",
        "\n",
        "    # Передаем все необходимые аргументы\n",
        "    model = MultiModalModel(\n",
        "        vocab_size=len(dataset.vocab),\n",
        "        numeric_dim=len(NUMERIC_FEATURES),\n",
        "        categorical_dims=[len(dataset.cat_mappings[col]) for col in CATEGORICAL_FEATURES]\n",
        "    ).to(device)  # Перенос модели на GPU\n",
        "    optimizer = torch.optim.Adam(model.parameters(), lr=1e-5)\n",
        "    criterion = nn.MSELoss()\n",
        "\n",
        "    # Для контроля частоты вывода\n",
        "    last_log_time = time.time()  # Инициализация начального времени\n",
        "    log_interval = 60\n",
        "\n",
        "    for epoch in range(10):\n",
        "        epoch_loss = 0.0  # Для сбора loss за эпоху\n",
        "\n",
        "        # Прогресс-бар с интервалом обновления 60 секунд\n",
        "        pbar = tqdm(dataloader, desc=f\"Epoch {epoch+1}\", mininterval=60)\n",
        "\n",
        "        for batch in pbar:\n",
        "            batch = {k: v.to(device) for k, v in batch.items()}\n",
        "\n",
        "            # Forward pass\n",
        "            predictions = model(batch)\n",
        "            loss = criterion(predictions, batch['target'])\n",
        "\n",
        "            # Backward pass\n",
        "            optimizer.zero_grad()\n",
        "            loss.backward()\n",
        "            optimizer.step()\n",
        "\n",
        "            # Сбор статистики\n",
        "            epoch_loss += loss.item()\n",
        "\n",
        "            # Логирование раз в минуту\n",
        "            current_time = time.time()  # Получаем текущее время правильно\n",
        "            if current_time - last_log_time >= log_interval:\n",
        "                # Вывод предсказаний и целей\n",
        "                print(\n",
        "                    f\"\\n[Epoch {epoch+1}] Predictions (avg): {predictions.mean().item():.2f} | \"\n",
        "                    f\"Targets (avg): {batch['target'].mean().item():.2f}\"\n",
        "                )\n",
        "                last_log_time = current_time\n",
        "\n",
        "            # Обновление прогресс-бара (только loss)\n",
        "            pbar.set_postfix({\"Batch Loss\": f\"{loss.item():.2f}\"})\n",
        "\n",
        "        # Вывод статистики за эпоху\n",
        "        avg_epoch_loss = epoch_loss / len(dataloader)\n",
        "        print(f\"\\n=== Epoch {epoch+1} Completed ===\")\n",
        "        print(f\"Average Loss: {avg_epoch_loss:.4f}\")\n",
        "        print(\"=\"*30)\n",
        "\n",
        "        torch.save({\n",
        "        'model_state_dict': model.state_dict(),\n",
        "        'mean': dataset.mean,\n",
        "        'std': dataset.std,\n",
        "        'cat_mappings': dataset.cat_mappings,\n",
        "        'vocab': dataset.vocab\n",
        "    }, \"cocrystal_model.pth\")\n",
        "\n",
        "    print(\"Model saved as cocrystal_model.pth\")\n",
        "\n",
        "\n",
        "class ConditionalGenerator(nn.Module):\n",
        "    def __init__(self, feature_dim, vocab_size, char_to_idx, idx_to_char, dataset, hidden_size=256):  # <-- Добавлен dataset\n",
        "        super().__init__()\n",
        "        self.dataset = dataset  # <-- Сохраняем dataset\n",
        "        self.char_to_idx = char_to_idx\n",
        "        self.idx_to_char = idx_to_char\n",
        "\n",
        "        # Инициализация из обученной модели\n",
        "        self.embedding = nn.Embedding(vocab_size, 128)\n",
        "        self.rnn = nn.GRU(128, 512, batch_first=True)  # Увеличили hidden_size до 512\n",
        "\n",
        "        # Условия генерации\n",
        "        self.condition_proj = nn.Linear(feature_dim, 128)\n",
        "\n",
        "        # Выходной слой\n",
        "        self.fc = nn.Linear(hidden_size, vocab_size)\n",
        "\n",
        "        # Параметры\n",
        "        self.vocab_size = vocab_size\n",
        "        self.hidden_size = hidden_size\n",
        "        self.feature_dim = feature_dim\n",
        "\n",
        "    def forward(self, x, hidden, conditions):\n",
        "        \"\"\"Прямой проход для обучения с учителем\"\"\"\n",
        "        # Проекция условий\n",
        "        cond_emb = self.condition_proj(conditions).unsqueeze(1)\n",
        "\n",
        "        # Объединение с эмбеддингами\n",
        "        x_emb = self.embedding(x)\n",
        "        x_cond = torch.cat([x_emb, cond_emb.expand(-1, x.size(1), -1)], dim=-1)\n",
        "\n",
        "        # RNN\n",
        "        out, hidden = self.rnn(x_cond, hidden)\n",
        "\n",
        "        # Предсказание\n",
        "        logits = self.fc(out)\n",
        "        return logits, hidden\n",
        "\n",
        "    def generate(self, conditions, max_len=100, temp=1.0):\n",
        "        \"\"\"Генерация молекул с учетом условий\"\"\"\n",
        "        with torch.no_grad():\n",
        "            # Исправление: device берется из conditions\n",
        "            input = torch.tensor([[self.char_to_idx['<SOS>']]], device=conditions.device)  # <--\n",
        "            hidden = torch.zeros(1, 1, self.hidden_size, device=conditions.device)  # <--\n",
        "\n",
        "            # Проекция условий\n",
        "            cond_emb = self.condition_proj(conditions)\n",
        "\n",
        "            # Буфер для генерации\n",
        "            generated = []\n",
        "\n",
        "            for _ in range(max_len):\n",
        "                # Шаг генерации\n",
        "                x_emb = self.embedding(input)\n",
        "                x_cond = torch.cat([x_emb, cond_emb.unsqueeze(1)], dim=-1)\n",
        "\n",
        "                out, hidden = self.rnn(x_cond, hidden)\n",
        "                logits = self.fc(out)\n",
        "\n",
        "                # Температурное сэмплирование\n",
        "                probs = nn.functional.softmax(logits[:, -1, :] / temp, dim=-1)\n",
        "                next_token = torch.multinomial(probs, 1)\n",
        "\n",
        "                # Проверка на EOS\n",
        "                if next_token.item() == self.char_to_idx['<EOS>']:\n",
        "                    break\n",
        "\n",
        "                generated.append(next_token.item())\n",
        "                input = next_token.unsqueeze(1)\n",
        "\n",
        "            return self._decode(generated)\n",
        "\n",
        "    def _encode_conditions(self, props):\n",
        "        numeric_norm = (props['numeric'] - self.dataset.mean) / self.dataset.std\n",
        "        categorical_encoded = [\n",
        "            torch.tensor([self.dataset.cat_mappings[col][props['categorical'][col]]])\n",
        "            for col in CATEGORICAL_FEATURES\n",
        "        ]\n",
        "        return torch.cat([numeric_norm, *categorical_encoded], dim=-1)\n",
        "\n",
        "\n",
        "# Интеграция с основной моделью\n",
        "class FullPipeline:\n",
        "    def __init__(self, predictor, generator, dataset):\n",
        "        self.predictor = predictor\n",
        "        self.generator = generator\n",
        "        self.dataset = dataset\n",
        "\n",
        "    def _calc_score(self, predicted, target):\n",
        "        # Пример: MSE между предсказанными и целевыми свойствами\n",
        "        return ((predicted - target) ** 2).mean().item()\n",
        "\n",
        "    def optimize_molecule(self, target_properties, n_samples=100):\n",
        "        \"\"\"Генерация молекул с оптимизацией свойств\"\"\"\n",
        "        best_smiles = None\n",
        "        best_score = float('inf')\n",
        "\n",
        "        for _ in range(n_samples):\n",
        "            # Генерация молекулы\n",
        "            conditions = self._encode_conditions(target_properties)\n",
        "            smiles = self.generator.generate(conditions)\n",
        "\n",
        "            # Валидация\n",
        "            if not Chem.MolFromSmiles(smiles):\n",
        "                continue\n",
        "\n",
        "            # Предсказание свойств\n",
        "            predicted = self.predictor(smiles)\n",
        "            score = self._calc_score(predicted, target_properties)\n",
        "\n",
        "            if score < best_score:\n",
        "                best_score = score\n",
        "                best_smiles = smiles\n",
        "\n",
        "        return best_smiles, best_score\n",
        "\n",
        "    def _encode_conditions(self, props):\n",
        "        numeric_norm = (props['numeric'] - self.dataset.mean) / self.dataset.std\n",
        "        # Исправление: кодирование категориальных признаков\n",
        "        categorical_encoded = [\n",
        "            torch.tensor([self.dataset.cat_mappings[col][props['categorical'][col]]]).to(props['numeric'].device)  # <-- Закрывающая скобка ]\n",
        "            for col in CATEGORICAL_FEATURES\n",
        "        ]\n",
        "        # Исправление: возвращаем объединенный тензор\n",
        "        return torch.cat([numeric_norm, *categorical_encoded], dim=-1)\n",
        "    @classmethod\n",
        "    def load_model(cls, model_path, dataset):\n",
        "        checkpoint = torch.load(model_path, map_location=device)\n",
        "\n",
        "        # Инициализация модели предсказаний\n",
        "        predictor = MultiModalModel(\n",
        "            vocab_size=len(checkpoint['vocab']),\n",
        "            numeric_dim=len(NUMERIC_FEATURES),\n",
        "            categorical_dims=[len(checkpoint['cat_mappings'][col]) for col in CATEGORICAL_FEATURES]\n",
        "        ).to(device)\n",
        "        predictor.load_state_dict(checkpoint['model_state_dict'])\n",
        "\n",
        "        # Инициализация генератора\n",
        "        generator = ConditionalGenerator(\n",
        "            feature_dim=len(NUMERIC_FEATURES)+sum(len(m) for m in checkpoint['cat_mappings'].values()),\n",
        "            vocab_size=len(checkpoint['vocab']),\n",
        "            char_to_idx={c:i for i,c in enumerate(checkpoint['vocab'])},\n",
        "            idx_to_char={i:c for i,c in enumerate(checkpoint['vocab'])},\n",
        "            dataset=dataset\n",
        "        ).to(device)\n",
        "\n",
        "        return cls(predictor, generator, dataset)\n",
        "\n",
        "if __name__ == \"__main__\":\n",
        "    train()"
      ],
      "metadata": {
        "id": "T2aOoZeXiyhh",
        "colab": {
          "base_uri": "https://localhost:8080/"
        },
        "outputId": "348a1cf4-1bcd-4735-b8e1-f28ceda8e9d2"
      },
      "execution_count": null,
      "outputs": [
        {
          "metadata": {
            "tags": null
          },
          "name": "stdout",
          "output_type": "stream",
          "text": [
            "[DEBUG] Столбцы до удаления: ['Molecule', 'Standard Type', 'Standard Relation', 'Standard Value', 'Standard Units', 'pChEMBL Value', 'Comment', 'Compound Key', 'Assay', 'Assay Description', 'BAO Format', 'Target', 'Target Pref. Name', 'Target Organism', 'Target Type', 'Document', 'Source', 'Max Phase', '#Ro5 Violations', 'Molecular Weight', 'Ligand Efficiency BEI', 'Ligand Efficiency LE', 'Ligand Efficiency LLE', 'Ligand Efficiency SEI', 'ALogP', 'Assay Organism', 'Assay Tissue ChEMBL ID', 'Assay Tissue Name', 'Assay Cell Type', 'Assay Subcellular Fraction', 'Organism Tax ID', 'BAO Format ID', 'Published Type', 'Published Relation', 'Published Value', 'Published Units', 'Canonical Smiles', 'Data Validity Comment', 'Document Journal', 'Document Year', 'SRC ID', 'UO Units', 'Potential Duplicate']\n",
            "[DEBUG] Столбцы после удаления: ['Molecule', 'Standard Type', 'Standard Relation', 'Standard Value', 'Standard Units', 'pChEMBL Value', 'Comment', 'Compound Key', 'Assay', 'Assay Description', 'BAO Format', 'Target', 'Target Pref. Name', 'Target Organism', 'Target Type', 'Document', 'Source', 'Max Phase', '#Ro5 Violations', 'Molecular Weight', 'ALogP', 'Assay Organism', 'Assay Cell Type', 'Assay Subcellular Fraction', 'Organism Tax ID', 'BAO Format ID', 'Published Type', 'Published Relation', 'Published Value', 'Published Units', 'Canonical Smiles', 'Data Validity Comment', 'Document Journal', 'Document Year', 'SRC ID', 'UO Units', 'Potential Duplicate']\n"
          ]
        },
        {
          "metadata": {
            "tags": null
          },
          "name": "stderr",
          "output_type": "stream",
          "text": [
            "[16:49:21] SMILES Parse Error: syntax error while parsing: [Cl-].c1ccc2c(c1)[i+]c3ccccc23\n",
            "[16:49:21] SMILES Parse Error: check for mistakes around position 19:\n",
            "[16:49:21] [Cl-].c1ccc2c(c1)[i+]c3ccccc23\n",
            "[16:49:21] ~~~~~~~~~~~~~~~~~~^\n",
            "[16:49:21] SMILES Parse Error: Failed parsing SMILES '[Cl-].c1ccc2c(c1)[i+]c3ccccc23' for input: '[Cl-].c1ccc2c(c1)[i+]c3ccccc23'\n",
            "[16:50:32] Conflicting single bond directions around double bond at index 5.\n",
            "[16:50:32]   BondStereo set to STEREONONE and single bond directions set to NONE.\n",
            "[16:50:37] Conflicting single bond directions around double bond at index 5.\n",
            "[16:50:37]   BondStereo set to STEREONONE and single bond directions set to NONE.\n",
            "[16:50:40] Conflicting single bond directions around double bond at index 5.\n",
            "[16:50:40]   BondStereo set to STEREONONE and single bond directions set to NONE.\n",
            "[16:50:57] Conflicting single bond directions around double bond at index 5.\n",
            "[16:50:57]   BondStereo set to STEREONONE and single bond directions set to NONE.\n",
            "[16:50:57] Conflicting single bond directions around double bond at index 5.\n",
            "[16:50:57]   BondStereo set to STEREONONE and single bond directions set to NONE.\n",
            "[16:50:57] Conflicting single bond directions around double bond at index 6.\n",
            "[16:50:57]   BondStereo set to STEREONONE and single bond directions set to NONE.\n",
            "[16:51:17] SMILES Parse Error: syntax error while parsing: [Cl-].c1ccc2c(c1)[i+]c3ccccc23\n",
            "[16:51:17] SMILES Parse Error: check for mistakes around position 19:\n",
            "[16:51:17] [Cl-].c1ccc2c(c1)[i+]c3ccccc23\n",
            "[16:51:17] ~~~~~~~~~~~~~~~~~~^\n",
            "[16:51:17] SMILES Parse Error: Failed parsing SMILES '[Cl-].c1ccc2c(c1)[i+]c3ccccc23' for input: '[Cl-].c1ccc2c(c1)[i+]c3ccccc23'\n",
            "[16:51:26] Conflicting single bond directions around double bond at index 5.\n",
            "[16:51:26]   BondStereo set to STEREONONE and single bond directions set to NONE.\n",
            "[16:51:39] Conflicting single bond directions around double bond at index 5.\n",
            "[16:51:39]   BondStereo set to STEREONONE and single bond directions set to NONE.\n",
            "[16:51:39] Conflicting single bond directions around double bond at index 5.\n",
            "[16:51:39]   BondStereo set to STEREONONE and single bond directions set to NONE.\n"
          ]
        },
        {
          "metadata": {
            "tags": null
          },
          "name": "stdout",
          "output_type": "stream",
          "text": [
            "Проверка на NaN в данных:\n",
            "Molecule                           0\n",
            "Standard Type                      0\n",
            "Standard Relation              18328\n",
            "Standard Value                     0\n",
            "Standard Units                   112\n",
            "pChEMBL Value                 207040\n",
            "Comment                       684737\n",
            "Compound Key                       1\n",
            "Assay                              0\n",
            "Assay Description                  0\n",
            "BAO Format                         0\n",
            "Target                             0\n",
            "Target Pref. Name                  0\n",
            "Target Organism                    0\n",
            "Target Type                        0\n",
            "Document                           0\n",
            "Source                             0\n",
            "Max Phase                          0\n",
            "#Ro5 Violations                    0\n",
            "Molecular Weight                   0\n",
            "ALogP                              0\n",
            "Assay Organism                     0\n",
            "Assay Cell Type               738897\n",
            "Assay Subcellular Fraction    902969\n",
            "Organism Tax ID                    0\n",
            "BAO Format ID                      0\n",
            "Published Type                912713\n",
            "Published Relation            912713\n",
            "Published Value               912713\n",
            "Published Units               912713\n",
            "Canonical Smiles                   0\n",
            "Data Validity Comment         884304\n",
            "Document Journal              266138\n",
            "Document Year                  88794\n",
            "SRC ID                             0\n",
            "UO Units                         206\n",
            "Potential Duplicate                0\n",
            "is_valid                           0\n",
            "dtype: int64\n",
            "Проверка на Inf в числовых признаках:\n",
            "Molecular Weight: 0\n",
            "ALogP: 0\n"
          ]
        },
        {
          "metadata": {
            "tags": null
          },
          "name": "stderr",
          "output_type": "stream",
          "text": [
            "Epoch 1:   7%|▋         | 1010/14262 [01:00<13:07, 16.82it/s, Batch Loss=0.25]"
          ]
        },
        {
          "metadata": {
            "tags": null
          },
          "name": "stdout",
          "output_type": "stream",
          "text": [
            "\n",
            "[Epoch 1] Predictions (avg): -0.03 | Targets (avg): -0.06\n"
          ]
        },
        {
          "metadata": {
            "tags": null
          },
          "name": "stderr",
          "output_type": "stream",
          "text": [
            "Epoch 1:  14%|█▍        | 2048/14262 [02:00<11:54, 17.10it/s, Batch Loss=0.18]"
          ]
        },
        {
          "metadata": {
            "tags": null
          },
          "name": "stdout",
          "output_type": "stream",
          "text": [
            "\n",
            "[Epoch 1] Predictions (avg): -0.03 | Targets (avg): -0.11\n"
          ]
        },
        {
          "metadata": {
            "tags": null
          },
          "name": "stderr",
          "output_type": "stream",
          "text": [
            "Epoch 1:  22%|██▏       | 3076/14262 [03:00<10:53, 17.11it/s, Batch Loss=1.07]"
          ]
        },
        {
          "metadata": {
            "tags": null
          },
          "name": "stdout",
          "output_type": "stream",
          "text": [
            "\n",
            "[Epoch 1] Predictions (avg): -0.02 | Targets (avg): -0.02\n"
          ]
        },
        {
          "metadata": {
            "tags": null
          },
          "name": "stderr",
          "output_type": "stream",
          "text": [
            "Epoch 1:  29%|██▊       | 4098/14262 [04:00<09:55, 17.08it/s, Batch Loss=2.08]"
          ]
        },
        {
          "metadata": {
            "tags": null
          },
          "name": "stdout",
          "output_type": "stream",
          "text": [
            "\n",
            "[Epoch 1] Predictions (avg): -0.06 | Targets (avg): -0.06\n"
          ]
        },
        {
          "metadata": {
            "tags": null
          },
          "name": "stderr",
          "output_type": "stream",
          "text": [
            "Epoch 1:  36%|███▌      | 5123/14262 [05:00<08:55, 17.08it/s, Batch Loss=1.47]"
          ]
        },
        {
          "metadata": {
            "tags": null
          },
          "name": "stdout",
          "output_type": "stream",
          "text": [
            "\n",
            "[Epoch 1] Predictions (avg): -0.04 | Targets (avg): 0.11\n"
          ]
        },
        {
          "metadata": {
            "tags": null
          },
          "name": "stderr",
          "output_type": "stream",
          "text": [
            "Epoch 1:  43%|████▎     | 6156/14262 [06:00<07:53, 17.12it/s, Batch Loss=0.38]"
          ]
        },
        {
          "metadata": {
            "tags": null
          },
          "name": "stdout",
          "output_type": "stream",
          "text": [
            "\n",
            "[Epoch 1] Predictions (avg): 0.00 | Targets (avg): -0.08\n"
          ]
        },
        {
          "metadata": {
            "tags": null
          },
          "name": "stderr",
          "output_type": "stream",
          "text": [
            "Epoch 1:  50%|█████     | 7197/14262 [07:00<06:50, 17.19it/s, Batch Loss=0.55]"
          ]
        },
        {
          "metadata": {
            "tags": null
          },
          "name": "stdout",
          "output_type": "stream",
          "text": [
            "\n",
            "[Epoch 1] Predictions (avg): -0.01 | Targets (avg): 0.06\n"
          ]
        },
        {
          "metadata": {
            "tags": null
          },
          "name": "stderr",
          "output_type": "stream",
          "text": [
            "Epoch 1:  58%|█████▊    | 8240/14262 [08:00<05:49, 17.25it/s, Batch Loss=0.60]"
          ]
        },
        {
          "metadata": {
            "tags": null
          },
          "name": "stdout",
          "output_type": "stream",
          "text": [
            "\n",
            "[Epoch 1] Predictions (avg): -0.02 | Targets (avg): -0.22\n"
          ]
        },
        {
          "metadata": {
            "tags": null
          },
          "name": "stderr",
          "output_type": "stream",
          "text": [
            "Epoch 1:  65%|██████▌   | 9274/14262 [09:00<04:49, 17.25it/s, Batch Loss=0.13]"
          ]
        },
        {
          "metadata": {
            "tags": null
          },
          "name": "stdout",
          "output_type": "stream",
          "text": [
            "\n",
            "[Epoch 1] Predictions (avg): 0.01 | Targets (avg): 0.05\n"
          ]
        },
        {
          "metadata": {
            "tags": null
          },
          "name": "stderr",
          "output_type": "stream",
          "text": [
            "Epoch 1:  72%|███████▏  | 10314/14262 [10:00<03:48, 17.27it/s, Batch Loss=0.20]"
          ]
        },
        {
          "metadata": {
            "tags": null
          },
          "name": "stdout",
          "output_type": "stream",
          "text": [
            "\n",
            "[Epoch 1] Predictions (avg): 0.00 | Targets (avg): -0.04\n"
          ]
        },
        {
          "metadata": {
            "tags": null
          },
          "name": "stderr",
          "output_type": "stream",
          "text": [
            "Epoch 1:  80%|███████▉  | 11346/14262 [11:00<02:49, 17.24it/s, Batch Loss=0.48]"
          ]
        },
        {
          "metadata": {
            "tags": null
          },
          "name": "stdout",
          "output_type": "stream",
          "text": [
            "\n",
            "[Epoch 1] Predictions (avg): 0.01 | Targets (avg): -0.02\n"
          ]
        },
        {
          "metadata": {
            "tags": null
          },
          "name": "stderr",
          "output_type": "stream",
          "text": [
            "Epoch 1:  87%|████████▋ | 12382/14262 [12:00<01:48, 17.25it/s, Batch Loss=0.19]"
          ]
        },
        {
          "metadata": {
            "tags": null
          },
          "name": "stdout",
          "output_type": "stream",
          "text": [
            "\n",
            "[Epoch 1] Predictions (avg): -0.02 | Targets (avg): -0.13\n"
          ]
        },
        {
          "metadata": {
            "tags": null
          },
          "name": "stderr",
          "output_type": "stream",
          "text": [
            "Epoch 1:  94%|█████████▍| 13430/14262 [13:00<00:48, 17.31it/s, Batch Loss=0.40]"
          ]
        },
        {
          "metadata": {
            "tags": null
          },
          "name": "stdout",
          "output_type": "stream",
          "text": [
            "\n",
            "[Epoch 1] Predictions (avg): -0.02 | Targets (avg): 0.01\n"
          ]
        },
        {
          "metadata": {
            "tags": null
          },
          "name": "stderr",
          "output_type": "stream",
          "text": [
            "Epoch 1: 100%|██████████| 14262/14262 [13:49<00:00, 17.20it/s, Batch Loss=0.14]\n"
          ]
        },
        {
          "metadata": {
            "tags": null
          },
          "name": "stdout",
          "output_type": "stream",
          "text": [
            "\n",
            "=== Epoch 1 Completed ===\n",
            "Average Loss: 0.9720\n",
            "==============================\n"
          ]
        },
        {
          "metadata": {
            "tags": null
          },
          "name": "stderr",
          "output_type": "stream",
          "text": [
            "Epoch 2:   0%|          | 0/14262 [00:11<?, ?it/s, Batch Loss=0.89]"
          ]
        },
        {
          "metadata": {
            "tags": null
          },
          "name": "stdout",
          "output_type": "stream",
          "text": [
            "\n",
            "[Epoch 2] Predictions (avg): -0.02 | Targets (avg): -0.01\n"
          ]
        },
        {
          "metadata": {
            "tags": null
          },
          "name": "stderr",
          "output_type": "stream",
          "text": [
            "Epoch 2:   7%|▋         | 1018/14262 [01:11<13:01, 16.96it/s, Batch Loss=1.07]"
          ]
        },
        {
          "metadata": {
            "tags": null
          },
          "name": "stdout",
          "output_type": "stream",
          "text": [
            "\n",
            "[Epoch 2] Predictions (avg): 0.01 | Targets (avg): 0.22\n"
          ]
        },
        {
          "metadata": {
            "tags": null
          },
          "name": "stderr",
          "output_type": "stream",
          "text": [
            "Epoch 2:  14%|█▍        | 2053/14262 [02:11<11:53, 17.12it/s, Batch Loss=0.50]"
          ]
        },
        {
          "metadata": {
            "tags": null
          },
          "name": "stdout",
          "output_type": "stream",
          "text": [
            "\n",
            "[Epoch 2] Predictions (avg): 0.01 | Targets (avg): -0.09\n"
          ]
        },
        {
          "metadata": {
            "tags": null
          },
          "name": "stderr",
          "output_type": "stream",
          "text": [
            "Epoch 2:  22%|██▏       | 3078/14262 [03:11<10:54, 17.10it/s, Batch Loss=0.30]"
          ]
        },
        {
          "metadata": {
            "tags": null
          },
          "name": "stdout",
          "output_type": "stream",
          "text": [
            "\n",
            "[Epoch 2] Predictions (avg): -0.01 | Targets (avg): 0.32\n"
          ]
        },
        {
          "metadata": {
            "tags": null
          },
          "name": "stderr",
          "output_type": "stream",
          "text": [
            "Epoch 2:  29%|██▉       | 4114/14262 [04:11<09:51, 17.16it/s, Batch Loss=1.86]"
          ]
        },
        {
          "metadata": {
            "tags": null
          },
          "name": "stdout",
          "output_type": "stream",
          "text": [
            "\n",
            "[Epoch 2] Predictions (avg): -0.03 | Targets (avg): -0.11\n"
          ]
        },
        {
          "metadata": {
            "tags": null
          },
          "name": "stderr",
          "output_type": "stream",
          "text": [
            "Epoch 2:  36%|███▌      | 5152/14262 [05:11<08:49, 17.21it/s, Batch Loss=0.21]"
          ]
        },
        {
          "metadata": {
            "tags": null
          },
          "name": "stdout",
          "output_type": "stream",
          "text": [
            "\n",
            "[Epoch 2] Predictions (avg): 0.01 | Targets (avg): -0.05\n"
          ]
        },
        {
          "metadata": {
            "tags": null
          },
          "name": "stderr",
          "output_type": "stream",
          "text": [
            "Epoch 2:  43%|████▎     | 6190/14262 [06:11<07:48, 17.24it/s, Batch Loss=0.34]"
          ]
        },
        {
          "metadata": {
            "tags": null
          },
          "name": "stdout",
          "output_type": "stream",
          "text": [
            "\n",
            "[Epoch 2] Predictions (avg): -0.02 | Targets (avg): -0.11\n"
          ]
        },
        {
          "metadata": {
            "tags": null
          },
          "name": "stderr",
          "output_type": "stream",
          "text": [
            "Epoch 2:  51%|█████     | 7211/14262 [07:11<06:50, 17.16it/s, Batch Loss=0.47]"
          ]
        },
        {
          "metadata": {
            "tags": null
          },
          "name": "stdout",
          "output_type": "stream",
          "text": [
            "\n",
            "[Epoch 2] Predictions (avg): 0.04 | Targets (avg): -0.01\n"
          ]
        },
        {
          "metadata": {
            "tags": null
          },
          "name": "stderr",
          "output_type": "stream",
          "text": [
            "Epoch 2:  58%|█████▊    | 8233/14262 [08:11<05:52, 17.12it/s, Batch Loss=4.54]"
          ]
        },
        {
          "metadata": {
            "tags": null
          },
          "name": "stdout",
          "output_type": "stream",
          "text": [
            "\n",
            "[Epoch 2] Predictions (avg): 0.03 | Targets (avg): -0.04\n"
          ]
        },
        {
          "metadata": {
            "tags": null
          },
          "name": "stderr",
          "output_type": "stream",
          "text": [
            "Epoch 2:  65%|██████▍   | 9264/14262 [09:11<04:51, 17.14it/s, Batch Loss=0.67]"
          ]
        },
        {
          "metadata": {
            "tags": null
          },
          "name": "stdout",
          "output_type": "stream",
          "text": [
            "\n",
            "[Epoch 2] Predictions (avg): -0.02 | Targets (avg): 0.26\n"
          ]
        },
        {
          "metadata": {
            "tags": null
          },
          "name": "stderr",
          "output_type": "stream",
          "text": [
            "Epoch 2:  72%|███████▏  | 10304/14262 [10:11<03:50, 17.20it/s, Batch Loss=1.10]"
          ]
        },
        {
          "metadata": {
            "tags": null
          },
          "name": "stdout",
          "output_type": "stream",
          "text": [
            "\n",
            "[Epoch 2] Predictions (avg): -0.01 | Targets (avg): 0.19\n"
          ]
        },
        {
          "metadata": {
            "tags": null
          },
          "name": "stderr",
          "output_type": "stream",
          "text": [
            "Epoch 2:  79%|███████▉  | 11336/14262 [11:11<02:50, 17.19it/s, Batch Loss=0.26]"
          ]
        },
        {
          "metadata": {
            "tags": null
          },
          "name": "stdout",
          "output_type": "stream",
          "text": [
            "\n",
            "[Epoch 2] Predictions (avg): -0.07 | Targets (avg): -0.10\n"
          ]
        },
        {
          "metadata": {
            "tags": null
          },
          "name": "stderr",
          "output_type": "stream",
          "text": [
            "Epoch 2:  87%|████████▋ | 12380/14262 [12:11<01:49, 17.25it/s, Batch Loss=0.44]"
          ]
        },
        {
          "metadata": {
            "tags": null
          },
          "name": "stdout",
          "output_type": "stream",
          "text": [
            "\n",
            "[Epoch 2] Predictions (avg): 0.02 | Targets (avg): -0.20\n"
          ]
        },
        {
          "metadata": {
            "tags": null
          },
          "name": "stderr",
          "output_type": "stream",
          "text": [
            "Epoch 2:  94%|█████████▍| 13411/14262 [13:11<00:49, 17.23it/s, Batch Loss=0.29]"
          ]
        },
        {
          "metadata": {
            "tags": null
          },
          "name": "stdout",
          "output_type": "stream",
          "text": [
            "\n",
            "[Epoch 2] Predictions (avg): -0.03 | Targets (avg): 0.08\n"
          ]
        },
        {
          "metadata": {
            "tags": null
          },
          "name": "stderr",
          "output_type": "stream",
          "text": [
            "Epoch 2: 100%|██████████| 14262/14262 [13:49<00:00, 17.19it/s, Batch Loss=1.07]\n"
          ]
        },
        {
          "metadata": {
            "tags": null
          },
          "name": "stdout",
          "output_type": "stream",
          "text": [
            "\n",
            "=== Epoch 2 Completed ===\n",
            "Average Loss: 0.9560\n",
            "==============================\n"
          ]
        },
        {
          "metadata": {
            "tags": null
          },
          "name": "stderr",
          "output_type": "stream",
          "text": [
            "Epoch 3:   0%|          | 0/14262 [00:21<?, ?it/s, Batch Loss=1.23]"
          ]
        },
        {
          "metadata": {
            "tags": null
          },
          "name": "stdout",
          "output_type": "stream",
          "text": [
            "\n",
            "[Epoch 3] Predictions (avg): -0.04 | Targets (avg): 0.22\n"
          ]
        },
        {
          "metadata": {
            "tags": null
          },
          "name": "stderr",
          "output_type": "stream",
          "text": [
            "Epoch 3:   7%|▋         | 1044/14262 [01:22<12:39, 17.39it/s, Batch Loss=0.29]"
          ]
        },
        {
          "metadata": {
            "tags": null
          },
          "name": "stdout",
          "output_type": "stream",
          "text": [
            "\n",
            "[Epoch 3] Predictions (avg): 0.02 | Targets (avg): -0.08\n"
          ]
        },
        {
          "metadata": {
            "tags": null
          },
          "name": "stderr",
          "output_type": "stream",
          "text": [
            "Epoch 3:  15%|█▍        | 2082/14262 [02:22<11:42, 17.33it/s, Batch Loss=0.92]"
          ]
        },
        {
          "metadata": {
            "tags": null
          },
          "name": "stdout",
          "output_type": "stream",
          "text": [
            "\n",
            "[Epoch 3] Predictions (avg): -0.01 | Targets (avg): -0.15\n"
          ]
        },
        {
          "metadata": {
            "tags": null
          },
          "name": "stderr",
          "output_type": "stream",
          "text": [
            "Epoch 3:  20%|██        | 2880/14262 [03:22<12:14, 15.49it/s, Batch Loss=0.66]"
          ]
        },
        {
          "metadata": {
            "tags": null
          },
          "name": "stdout",
          "output_type": "stream",
          "text": [
            "\n",
            "[Epoch 3] Predictions (avg): -0.06 | Targets (avg): -0.13\n"
          ]
        },
        {
          "metadata": {
            "tags": null
          },
          "name": "stderr",
          "output_type": "stream",
          "text": [
            "Epoch 3:  27%|██▋       | 3808/14262 [04:22<11:15, 15.48it/s, Batch Loss=0.11]"
          ]
        },
        {
          "metadata": {
            "tags": null
          },
          "name": "stdout",
          "output_type": "stream",
          "text": [
            "\n",
            "[Epoch 3] Predictions (avg): 0.01 | Targets (avg): -0.04\n"
          ]
        },
        {
          "metadata": {
            "tags": null
          },
          "name": "stderr",
          "output_type": "stream",
          "text": [
            "Epoch 3:  34%|███▍      | 4840/14262 [05:22<09:45, 16.09it/s, Batch Loss=1.34]"
          ]
        },
        {
          "metadata": {
            "tags": null
          },
          "name": "stdout",
          "output_type": "stream",
          "text": [
            "\n",
            "[Epoch 3] Predictions (avg): -0.00 | Targets (avg): -0.03\n"
          ]
        },
        {
          "metadata": {
            "tags": null
          },
          "name": "stderr",
          "output_type": "stream",
          "text": [
            "Epoch 3:  41%|████      | 5876/14262 [06:22<08:28, 16.49it/s, Batch Loss=0.38]"
          ]
        },
        {
          "metadata": {
            "tags": null
          },
          "name": "stdout",
          "output_type": "stream",
          "text": [
            "\n",
            "[Epoch 3] Predictions (avg): -0.05 | Targets (avg): -0.16\n"
          ]
        },
        {
          "metadata": {
            "tags": null
          },
          "name": "stderr",
          "output_type": "stream",
          "text": [
            "Epoch 3:  49%|████▊     | 6924/14262 [07:22<07:16, 16.80it/s, Batch Loss=0.43]"
          ]
        },
        {
          "metadata": {
            "tags": null
          },
          "name": "stdout",
          "output_type": "stream",
          "text": [
            "\n",
            "[Epoch 3] Predictions (avg): -0.01 | Targets (avg): 0.08\n"
          ]
        },
        {
          "metadata": {
            "tags": null
          },
          "name": "stderr",
          "output_type": "stream",
          "text": [
            "Epoch 3:  56%|█████▌    | 7958/14262 [08:22<06:12, 16.94it/s, Batch Loss=0.15]"
          ]
        },
        {
          "metadata": {
            "tags": null
          },
          "name": "stdout",
          "output_type": "stream",
          "text": [
            "\n",
            "[Epoch 3] Predictions (avg): -0.02 | Targets (avg): -0.06\n"
          ]
        },
        {
          "metadata": {
            "tags": null
          },
          "name": "stderr",
          "output_type": "stream",
          "text": [
            "Epoch 3:  63%|██████▎   | 8983/14262 [09:22<05:10, 16.98it/s, Batch Loss=0.17]"
          ]
        },
        {
          "metadata": {
            "tags": null
          },
          "name": "stdout",
          "output_type": "stream",
          "text": [
            "\n",
            "[Epoch 3] Predictions (avg): -0.05 | Targets (avg): 0.11\n"
          ]
        },
        {
          "metadata": {
            "tags": null
          },
          "name": "stderr",
          "output_type": "stream",
          "text": [
            "Epoch 3:  70%|███████   | 10023/14262 [10:22<04:08, 17.09it/s, Batch Loss=1.58]"
          ]
        },
        {
          "metadata": {
            "tags": null
          },
          "name": "stdout",
          "output_type": "stream",
          "text": [
            "\n",
            "[Epoch 3] Predictions (avg): 0.04 | Targets (avg): 0.07\n"
          ]
        },
        {
          "metadata": {
            "tags": null
          },
          "name": "stderr",
          "output_type": "stream",
          "text": [
            "Epoch 3:  78%|███████▊  | 11060/14262 [11:22<03:06, 17.14it/s, Batch Loss=0.20]"
          ]
        },
        {
          "metadata": {
            "tags": null
          },
          "name": "stdout",
          "output_type": "stream",
          "text": [
            "\n",
            "[Epoch 3] Predictions (avg): 0.02 | Targets (avg): -0.13\n"
          ]
        },
        {
          "metadata": {
            "tags": null
          },
          "name": "stderr",
          "output_type": "stream",
          "text": [
            "Epoch 3:  85%|████████▍ | 12106/14262 [12:22<02:05, 17.23it/s, Batch Loss=2.18]"
          ]
        },
        {
          "metadata": {
            "tags": null
          },
          "name": "stdout",
          "output_type": "stream",
          "text": [
            "\n",
            "[Epoch 3] Predictions (avg): 0.02 | Targets (avg): 0.03\n"
          ]
        },
        {
          "metadata": {
            "tags": null
          },
          "name": "stderr",
          "output_type": "stream",
          "text": [
            "Epoch 3:  92%|█████████▏| 13147/14262 [13:22<01:04, 17.26it/s, Batch Loss=0.35]"
          ]
        },
        {
          "metadata": {
            "tags": null
          },
          "name": "stdout",
          "output_type": "stream",
          "text": [
            "\n",
            "[Epoch 3] Predictions (avg): -0.01 | Targets (avg): -0.07\n"
          ]
        },
        {
          "metadata": {
            "tags": null
          },
          "name": "stderr",
          "output_type": "stream",
          "text": [
            "Epoch 3: 100%|██████████| 14262/14262 [14:05<00:00, 16.88it/s, Batch Loss=1.11]\n"
          ]
        },
        {
          "metadata": {
            "tags": null
          },
          "name": "stdout",
          "output_type": "stream",
          "text": [
            "\n",
            "=== Epoch 3 Completed ===\n",
            "Average Loss: 0.9466\n",
            "==============================\n"
          ]
        },
        {
          "metadata": {
            "tags": null
          },
          "name": "stderr",
          "output_type": "stream",
          "text": [
            "Epoch 4:   0%|          | 0/14262 [00:17<?, ?it/s, Batch Loss=0.58]"
          ]
        },
        {
          "metadata": {
            "tags": null
          },
          "name": "stdout",
          "output_type": "stream",
          "text": [
            "\n",
            "[Epoch 4] Predictions (avg): -0.03 | Targets (avg): 0.15\n"
          ]
        },
        {
          "metadata": {
            "tags": null
          },
          "name": "stderr",
          "output_type": "stream",
          "text": [
            "Epoch 4:   7%|▋         | 1039/14262 [01:17<12:43, 17.31it/s, Batch Loss=3.53]"
          ]
        },
        {
          "metadata": {
            "tags": null
          },
          "name": "stdout",
          "output_type": "stream",
          "text": [
            "\n",
            "[Epoch 4] Predictions (avg): -0.01 | Targets (avg): 0.13\n"
          ]
        },
        {
          "metadata": {
            "tags": null
          },
          "name": "stderr",
          "output_type": "stream",
          "text": [
            "Epoch 4:  15%|█▍        | 2093/14262 [02:17<11:37, 17.46it/s, Batch Loss=0.43]"
          ]
        },
        {
          "metadata": {
            "tags": null
          },
          "name": "stdout",
          "output_type": "stream",
          "text": [
            "\n",
            "[Epoch 4] Predictions (avg): 0.03 | Targets (avg): -0.08\n"
          ]
        },
        {
          "output_type": "stream",
          "name": "stderr",
          "text": [
            "Epoch 4:  22%|██▏       | 3134/14262 [03:17<10:39, 17.41it/s, Batch Loss=0.12]"
          ]
        },
        {
          "output_type": "stream",
          "name": "stdout",
          "text": [
            "\n",
            "[Epoch 4] Predictions (avg): 0.00 | Targets (avg): -0.11\n"
          ]
        },
        {
          "output_type": "stream",
          "name": "stderr",
          "text": [
            "Epoch 4:  29%|██▉       | 4173/14262 [04:17<09:40, 17.37it/s, Batch Loss=3.80]"
          ]
        },
        {
          "output_type": "stream",
          "name": "stdout",
          "text": [
            "\n",
            "[Epoch 4] Predictions (avg): -0.03 | Targets (avg): -0.21\n"
          ]
        },
        {
          "output_type": "stream",
          "name": "stderr",
          "text": [
            "Epoch 4:  37%|███▋      | 5212/14262 [05:17<08:41, 17.35it/s, Batch Loss=0.26]"
          ]
        },
        {
          "output_type": "stream",
          "name": "stdout",
          "text": [
            "\n",
            "[Epoch 4] Predictions (avg): 0.00 | Targets (avg): 0.04\n"
          ]
        },
        {
          "output_type": "stream",
          "name": "stderr",
          "text": [
            "Epoch 4:  44%|████▍     | 6246/14262 [06:07<07:43, 17.30it/s, Batch Loss=0.17]"
          ]
        }
      ]
    },
    {
      "cell_type": "code",
      "source": [
        "from google.colab import drive\n",
        "drive.mount('/content/drive')"
      ],
      "metadata": {
        "id": "GrJ7yrQ0p8Kr",
        "colab": {
          "base_uri": "https://localhost:8080/"
        },
        "outputId": "08c8e0db-9b78-461c-db8a-dcfbee4ef4fb"
      },
      "execution_count": 7,
      "outputs": [
        {
          "output_type": "stream",
          "name": "stdout",
          "text": [
            "Mounted at /content/drive\n"
          ]
        }
      ]
    }
  ]
}